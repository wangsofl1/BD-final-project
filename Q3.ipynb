{
 "cells": [
  {
   "cell_type": "code",
   "execution_count": 0,
   "metadata": {
    "application/vnd.databricks.v1+cell": {
     "cellMetadata": {
      "byteLimit": 2048000,
      "rowLimit": 10000
     },
     "inputWidgets": {},
     "nuid": "bfa44657-e3fc-4d54-a985-775352f5f5d5",
     "showTitle": false,
     "tableResultSettingsMap": {},
     "title": ""
    }
   },
   "outputs": [
    {
     "output_type": "stream",
     "name": "stdout",
     "output_type": "stream",
     "text": [
      "Python interpreter will be restarted.\nCollecting mlflow\n  Downloading mlflow-2.18.0-py3-none-any.whl (27.3 MB)\nCollecting sqlalchemy<3,>=1.4.0\n  Downloading SQLAlchemy-2.0.36-cp39-cp39-manylinux_2_17_x86_64.manylinux2014_x86_64.whl (3.1 MB)\nCollecting graphene<4\n  Downloading graphene-3.4.3-py2.py3-none-any.whl (114 kB)\nRequirement already satisfied: scipy<2 in /databricks/python3/lib/python3.9/site-packages (from mlflow) (1.7.3)\nCollecting docker<8,>=4.0.0\n  Downloading docker-7.1.0-py3-none-any.whl (147 kB)\nRequirement already satisfied: numpy<3 in /databricks/python3/lib/python3.9/site-packages (from mlflow) (1.21.5)\nCollecting Flask<4\n  Downloading flask-3.1.0-py3-none-any.whl (102 kB)\nCollecting mlflow-skinny==2.18.0\n  Downloading mlflow_skinny-2.18.0-py3-none-any.whl (5.8 MB)\nRequirement already satisfied: pyarrow<19,>=4.0.0 in /databricks/python3/lib/python3.9/site-packages (from mlflow) (7.0.0)\nRequirement already satisfied: scikit-learn<2 in /databricks/python3/lib/python3.9/site-packages (from mlflow) (1.0.2)\nCollecting markdown<4,>=3.3\n  Downloading Markdown-3.7-py3-none-any.whl (106 kB)\nRequirement already satisfied: pandas<3 in /databricks/python3/lib/python3.9/site-packages (from mlflow) (1.4.2)\nCollecting gunicorn<24\n  Downloading gunicorn-23.0.0-py3-none-any.whl (85 kB)\nCollecting alembic!=1.10.0,<2\n  Downloading alembic-1.14.0-py3-none-any.whl (233 kB)\nRequirement already satisfied: matplotlib<4 in /databricks/python3/lib/python3.9/site-packages (from mlflow) (3.5.1)\nRequirement already satisfied: Jinja2<4,>=2.11 in /databricks/python3/lib/python3.9/site-packages (from mlflow) (2.11.3)\nCollecting sqlparse<1,>=0.4.0\n  Downloading sqlparse-0.5.2-py3-none-any.whl (44 kB)\nRequirement already satisfied: requests<3,>=2.17.3 in /databricks/python3/lib/python3.9/site-packages (from mlflow-skinny==2.18.0->mlflow) (2.27.1)\nCollecting opentelemetry-api<3,>=1.9.0\n  Downloading opentelemetry_api-1.28.2-py3-none-any.whl (64 kB)\nRequirement already satisfied: click<9,>=7.0 in /databricks/python3/lib/python3.9/site-packages (from mlflow-skinny==2.18.0->mlflow) (8.0.4)\nCollecting opentelemetry-sdk<3,>=1.9.0\n  Downloading opentelemetry_sdk-1.28.2-py3-none-any.whl (118 kB)\nRequirement already satisfied: protobuf<6,>=3.12.0 in /databricks/python3/lib/python3.9/site-packages (from mlflow-skinny==2.18.0->mlflow) (3.19.4)\nCollecting cloudpickle<4\n  Downloading cloudpickle-3.1.0-py3-none-any.whl (22 kB)\nCollecting importlib-metadata!=4.7.0,<9,>=3.7.0\n  Downloading importlib_metadata-8.5.0-py3-none-any.whl (26 kB)\nCollecting pyyaml<7,>=5.1\n  Downloading PyYAML-6.0.2-cp39-cp39-manylinux_2_17_x86_64.manylinux2014_x86_64.whl (737 kB)\nCollecting gitpython<4,>=3.1.9\n  Downloading GitPython-3.1.43-py3-none-any.whl (207 kB)\nCollecting cachetools<6,>=5.0.0\n  Downloading cachetools-5.5.0-py3-none-any.whl (9.5 kB)\nRequirement already satisfied: packaging<25 in /databricks/python3/lib/python3.9/site-packages (from mlflow-skinny==2.18.0->mlflow) (21.3)\nCollecting databricks-sdk<1,>=0.20.0\n  Downloading databricks_sdk-0.38.0-py3-none-any.whl (575 kB)\nRequirement already satisfied: typing-extensions>=4 in /databricks/python3/lib/python3.9/site-packages (from alembic!=1.10.0,<2->mlflow) (4.1.1)\nCollecting Mako\n  Downloading Mako-1.3.6-py3-none-any.whl (78 kB)\nCollecting google-auth~=2.0\n  Downloading google_auth-2.36.0-py2.py3-none-any.whl (209 kB)\nCollecting requests<3,>=2.17.3\n  Downloading requests-2.32.3-py3-none-any.whl (64 kB)\nRequirement already satisfied: urllib3>=1.26.0 in /databricks/python3/lib/python3.9/site-packages (from docker<8,>=4.0.0->mlflow) (1.26.9)\nCollecting blinker>=1.9\n  Downloading blinker-1.9.0-py3-none-any.whl (8.5 kB)\nCollecting Jinja2<4,>=2.11\n  Downloading jinja2-3.1.4-py3-none-any.whl (133 kB)\nCollecting Werkzeug>=3.1\n  Downloading werkzeug-3.1.3-py3-none-any.whl (224 kB)\nCollecting itsdangerous>=2.2\n  Downloading itsdangerous-2.2.0-py3-none-any.whl (16 kB)\nCollecting click<9,>=7.0\n  Downloading click-8.1.7-py3-none-any.whl (97 kB)\nCollecting gitdb<5,>=4.0.1\n  Downloading gitdb-4.0.11-py3-none-any.whl (62 kB)\nCollecting smmap<6,>=3.0.1\n  Downloading smmap-5.0.1-py3-none-any.whl (24 kB)\nCollecting rsa<5,>=3.1.4\n  Downloading rsa-4.9-py3-none-any.whl (34 kB)\nCollecting pyasn1-modules>=0.2.1\n  Downloading pyasn1_modules-0.4.1-py3-none-any.whl (181 kB)\nCollecting typing-extensions>=4\n  Downloading typing_extensions-4.12.2-py3-none-any.whl (37 kB)\nRequirement already satisfied: python-dateutil<3,>=2.7.0 in /databricks/python3/lib/python3.9/site-packages (from graphene<4->mlflow) (2.8.2)\nCollecting graphql-core<3.3,>=3.1\n  Downloading graphql_core-3.2.5-py3-none-any.whl (203 kB)\nCollecting graphql-relay<3.3,>=3.1\n  Downloading graphql_relay-3.2.0-py3-none-any.whl (16 kB)\nCollecting zipp>=3.20\n  Downloading zipp-3.21.0-py3-none-any.whl (9.6 kB)\nRequirement already satisfied: MarkupSafe>=2.0 in /databricks/python3/lib/python3.9/site-packages (from Jinja2<4,>=2.11->mlflow) (2.0.1)\nRequirement already satisfied: pyparsing>=2.2.1 in /databricks/python3/lib/python3.9/site-packages (from matplotlib<4->mlflow) (3.0.4)\nRequirement already satisfied: cycler>=0.10 in /databricks/python3/lib/python3.9/site-packages (from matplotlib<4->mlflow) (0.11.0)\nRequirement already satisfied: kiwisolver>=1.0.1 in /databricks/python3/lib/python3.9/site-packages (from matplotlib<4->mlflow) (1.3.2)\nRequirement already satisfied: pillow>=6.2.0 in /databricks/python3/lib/python3.9/site-packages (from matplotlib<4->mlflow) (9.0.1)\nRequirement already satisfied: fonttools>=4.22.0 in /databricks/python3/lib/python3.9/site-packages (from matplotlib<4->mlflow) (4.25.0)\nCollecting deprecated>=1.2.6\n  Downloading Deprecated-1.2.15-py2.py3-none-any.whl (9.9 kB)\nCollecting wrapt<2,>=1.10\n  Downloading wrapt-1.16.0-cp39-cp39-manylinux_2_5_x86_64.manylinux1_x86_64.manylinux_2_17_x86_64.manylinux2014_x86_64.whl (80 kB)\nCollecting opentelemetry-semantic-conventions==0.49b2\n  Downloading opentelemetry_semantic_conventions-0.49b2-py3-none-any.whl (159 kB)\nRequirement already satisfied: pytz>=2020.1 in /databricks/python3/lib/python3.9/site-packages (from pandas<3->mlflow) (2021.3)\nCollecting pyasn1<0.7.0,>=0.4.6\n  Downloading pyasn1-0.6.1-py3-none-any.whl (83 kB)\nRequirement already satisfied: six>=1.5 in /databricks/python3/lib/python3.9/site-packages (from python-dateutil<3,>=2.7.0->graphene<4->mlflow) (1.16.0)\nRequirement already satisfied: certifi>=2017.4.17 in /databricks/python3/lib/python3.9/site-packages (from requests<3,>=2.17.3->mlflow-skinny==2.18.0->mlflow) (2021.10.8)\nRequirement already satisfied: idna<4,>=2.5 in /databricks/python3/lib/python3.9/site-packages (from requests<3,>=2.17.3->mlflow-skinny==2.18.0->mlflow) (3.3)\nRequirement already satisfied: charset-normalizer<4,>=2 in /databricks/python3/lib/python3.9/site-packages (from requests<3,>=2.17.3->mlflow-skinny==2.18.0->mlflow) (2.0.4)\nRequirement already satisfied: joblib>=0.11 in /databricks/python3/lib/python3.9/site-packages (from scikit-learn<2->mlflow) (1.1.1)\nRequirement already satisfied: threadpoolctl>=2.0.0 in /databricks/python3/lib/python3.9/site-packages (from scikit-learn<2->mlflow) (2.2.0)\nCollecting greenlet!=0.4.17\n  Downloading greenlet-3.1.1-cp39-cp39-manylinux_2_24_x86_64.manylinux_2_28_x86_64.whl (597 kB)\nCollecting MarkupSafe>=2.0\n  Downloading MarkupSafe-3.0.2-cp39-cp39-manylinux_2_17_x86_64.manylinux2014_x86_64.whl (20 kB)\nInstalling collected packages: zipp, wrapt, pyasn1, importlib-metadata, deprecated, typing-extensions, smmap, rsa, pyasn1-modules, opentelemetry-api, cachetools, requests, opentelemetry-semantic-conventions, MarkupSafe, greenlet, graphql-core, google-auth, gitdb, Werkzeug, sqlparse, sqlalchemy, pyyaml, opentelemetry-sdk, Mako, Jinja2, itsdangerous, graphql-relay, gitpython, databricks-sdk, cloudpickle, click, blinker, mlflow-skinny, markdown, gunicorn, graphene, Flask, docker, alembic, mlflow\n  Attempting uninstall: typing-extensions\n    Found existing installation: typing-extensions 4.1.1\n    Not uninstalling typing-extensions at /databricks/python3/lib/python3.9/site-packages, outside environment /local_disk0/.ephemeral_nfs/envs/pythonEnv-293e6d1c-39b0-446b-b889-9d446d8b6740\n    Can't uninstall 'typing-extensions'. No files were found to uninstall.\n  Attempting uninstall: requests\n    Found existing installation: requests 2.27.1\n    Not uninstalling requests at /databricks/python3/lib/python3.9/site-packages, outside environment /local_disk0/.ephemeral_nfs/envs/pythonEnv-293e6d1c-39b0-446b-b889-9d446d8b6740\n    Can't uninstall 'requests'. No files were found to uninstall.\n  Attempting uninstall: MarkupSafe\n    Found existing installation: MarkupSafe 2.0.1\n    Not uninstalling markupsafe at /databricks/python3/lib/python3.9/site-packages, outside environment /local_disk0/.ephemeral_nfs/envs/pythonEnv-293e6d1c-39b0-446b-b889-9d446d8b6740\n    Can't uninstall 'MarkupSafe'. No files were found to uninstall.\n  Attempting uninstall: Jinja2\n    Found existing installation: Jinja2 2.11.3\n    Not uninstalling jinja2 at /databricks/python3/lib/python3.9/site-packages, outside environment /local_disk0/.ephemeral_nfs/envs/pythonEnv-293e6d1c-39b0-446b-b889-9d446d8b6740\n    Can't uninstall 'Jinja2'. No files were found to uninstall.\n  Attempting uninstall: click\n    Found existing installation: click 8.0.4\n    Not uninstalling click at /databricks/python3/lib/python3.9/site-packages, outside environment /local_disk0/.ephemeral_nfs/envs/pythonEnv-293e6d1c-39b0-446b-b889-9d446d8b6740\n    Can't uninstall 'click'. No files were found to uninstall.\nSuccessfully installed Flask-3.1.0 Jinja2-3.1.4 Mako-1.3.6 MarkupSafe-3.0.2 Werkzeug-3.1.3 alembic-1.14.0 blinker-1.9.0 cachetools-5.5.0 click-8.1.7 cloudpickle-3.1.0 databricks-sdk-0.38.0 deprecated-1.2.15 docker-7.1.0 gitdb-4.0.11 gitpython-3.1.43 google-auth-2.36.0 graphene-3.4.3 graphql-core-3.2.5 graphql-relay-3.2.0 greenlet-3.1.1 gunicorn-23.0.0 importlib-metadata-8.5.0 itsdangerous-2.2.0 markdown-3.7 mlflow-2.18.0 mlflow-skinny-2.18.0 opentelemetry-api-1.28.2 opentelemetry-sdk-1.28.2 opentelemetry-semantic-conventions-0.49b2 pyasn1-0.6.1 pyasn1-modules-0.4.1 pyyaml-6.0.2 requests-2.32.3 rsa-4.9 smmap-5.0.1 sqlalchemy-2.0.36 sqlparse-0.5.2 typing-extensions-4.12.2 wrapt-1.16.0 zipp-3.21.0\nPython interpreter will be restarted.\n"
     ]
    }
   ],
   "source": [
    "pip install mlflow"
   ]
  },
  {
   "cell_type": "code",
   "execution_count": 0,
   "metadata": {
    "application/vnd.databricks.v1+cell": {
     "cellMetadata": {
      "byteLimit": 2048000,
      "rowLimit": 10000
     },
     "inputWidgets": {},
     "nuid": "42abf89b-c918-4ec8-9922-0e962c7ecb8a",
     "showTitle": false,
     "tableResultSettingsMap": {},
     "title": ""
    }
   },
   "outputs": [
    {
     "output_type": "stream",
     "name": "stdout",
     "output_type": "stream",
     "text": [
      "Python interpreter will be restarted.\nCollecting imblearn\n  Downloading imblearn-0.0-py2.py3-none-any.whl (1.9 kB)\nCollecting imbalanced-learn\n  Downloading imbalanced_learn-0.12.4-py3-none-any.whl (258 kB)\nRequirement already satisfied: scikit-learn>=1.0.2 in /databricks/python3/lib/python3.9/site-packages (from imbalanced-learn->imblearn) (1.0.2)\nRequirement already satisfied: joblib>=1.1.1 in /databricks/python3/lib/python3.9/site-packages (from imbalanced-learn->imblearn) (1.1.1)\nRequirement already satisfied: threadpoolctl>=2.0.0 in /databricks/python3/lib/python3.9/site-packages (from imbalanced-learn->imblearn) (2.2.0)\nRequirement already satisfied: scipy>=1.5.0 in /databricks/python3/lib/python3.9/site-packages (from imbalanced-learn->imblearn) (1.7.3)\nRequirement already satisfied: numpy>=1.17.3 in /databricks/python3/lib/python3.9/site-packages (from imbalanced-learn->imblearn) (1.21.5)\nInstalling collected packages: imbalanced-learn, imblearn\nSuccessfully installed imbalanced-learn-0.12.4 imblearn-0.0\nPython interpreter will be restarted.\n"
     ]
    }
   ],
   "source": [
    "pip install imblearn"
   ]
  },
  {
   "cell_type": "code",
   "execution_count": 0,
   "metadata": {
    "application/vnd.databricks.v1+cell": {
     "cellMetadata": {
      "byteLimit": 2048000,
      "rowLimit": 10000
     },
     "inputWidgets": {},
     "nuid": "6d5c944b-9342-441b-af3b-12fe9e658060",
     "showTitle": false,
     "tableResultSettingsMap": {},
     "title": ""
    }
   },
   "outputs": [
    {
     "output_type": "stream",
     "name": "stdout",
     "output_type": "stream",
     "text": [
      "Python interpreter will be restarted.\nCollecting xgboost\n  Downloading xgboost-2.1.2-py3-none-manylinux_2_28_x86_64.whl (153.9 MB)\nCollecting nvidia-nccl-cu12\n  Downloading nvidia_nccl_cu12-2.23.4-py3-none-manylinux2014_x86_64.whl (199.0 MB)\nRequirement already satisfied: scipy in /databricks/python3/lib/python3.9/site-packages (from xgboost) (1.7.3)\nRequirement already satisfied: numpy in /databricks/python3/lib/python3.9/site-packages (from xgboost) (1.21.5)\nInstalling collected packages: nvidia-nccl-cu12, xgboost\nSuccessfully installed nvidia-nccl-cu12-2.23.4 xgboost-2.1.2\nPython interpreter will be restarted.\n"
     ]
    }
   ],
   "source": [
    "pip install xgboost"
   ]
  },
  {
   "cell_type": "code",
   "execution_count": 0,
   "metadata": {
    "application/vnd.databricks.v1+cell": {
     "cellMetadata": {
      "byteLimit": 2048000,
      "rowLimit": 10000
     },
     "inputWidgets": {},
     "nuid": "ad095437-d1d1-4f85-919b-de8c933a19af",
     "showTitle": false,
     "tableResultSettingsMap": {},
     "title": ""
    }
   },
   "outputs": [
    {
     "output_type": "display_data",
     "data": {
      "application/vnd.databricks.v1+bamboolib_hint": "{\"pd.DataFrames\": [], \"version\": \"0.0.1\"}",
      "text/plain": []
     },
     "metadata": {},
     "output_type": "display_data"
    }
   ],
   "source": [
    "# Databricks notebook source\n",
    "from pyspark.sql import SparkSession\n",
    "from pyspark.sql.functions import *\n",
    "from pyspark.sql.types import *\n",
    "from pyspark.ml.feature import StringIndexer, StandardScaler, VectorAssembler\n",
    "from pyspark.ml import Pipeline\n",
    "from pyspark.ml.classification import RandomForestClassifier\n",
    "from pyspark.ml.evaluation import BinaryClassificationEvaluator\n",
    "from pyspark.ml.tuning import ParamGridBuilder, CrossValidator\n",
    "import pandas as pd\n",
    "import numpy as np\n",
    "from sklearn.model_selection import train_test_split\n",
    "from sklearn.preprocessing import StandardScaler\n",
    "from sklearn.metrics import classification_report, roc_auc_score, roc_curve\n",
    "from imblearn.over_sampling import SMOTE\n",
    "import xgboost as xgb\n",
    "import matplotlib.pyplot as plt\n",
    "import seaborn as sns\n",
    "import mlflow\n",
    "import mlflow.sklearn\n",
    "from sklearn.metrics import accuracy_score"
   ]
  },
  {
   "cell_type": "code",
   "execution_count": 0,
   "metadata": {
    "application/vnd.databricks.v1+cell": {
     "cellMetadata": {
      "byteLimit": 2048000,
      "rowLimit": 10000
     },
     "inputWidgets": {},
     "nuid": "eeb128cc-3df7-4e92-a07d-297e86309eaa",
     "showTitle": false,
     "tableResultSettingsMap": {},
     "title": ""
    }
   },
   "outputs": [],
   "source": [
    "# create SparkSession\n",
    "spark = SparkSession.builder.appName(\"Data\").getOrCreate()"
   ]
  },
  {
   "cell_type": "code",
   "execution_count": 0,
   "metadata": {
    "application/vnd.databricks.v1+cell": {
     "cellMetadata": {
      "byteLimit": 2048000,
      "rowLimit": 10000
     },
     "inputWidgets": {},
     "nuid": "6f0ac0d9-c6da-44fa-aab7-e4500991866a",
     "showTitle": false,
     "tableResultSettingsMap": {},
     "title": ""
    }
   },
   "outputs": [],
   "source": [
    "# Load the dataset\n",
    "df = spark.read.csv(\"/FileStore/tables/customer_booking.csv\", header=True, inferSchema=True)"
   ]
  },
  {
   "cell_type": "code",
   "execution_count": 0,
   "metadata": {
    "application/vnd.databricks.v1+cell": {
     "cellMetadata": {
      "byteLimit": 2048000,
      "rowLimit": 10000
     },
     "inputWidgets": {},
     "nuid": "5dc42a70-3a15-4e46-ab8c-415c15b1ec84",
     "showTitle": false,
     "tableResultSettingsMap": {},
     "title": ""
    }
   },
   "outputs": [],
   "source": [
    "# 將Spark DataFrame轉換為Pandas DataFrame以便進行機器學習 \n",
    "data = df.toPandas()"
   ]
  },
  {
   "cell_type": "code",
   "execution_count": 0,
   "metadata": {
    "application/vnd.databricks.v1+cell": {
     "cellMetadata": {
      "byteLimit": 2048000,
      "rowLimit": 10000
     },
     "inputWidgets": {},
     "nuid": "8899757c-b640-4718-abb6-b305033feadc",
     "showTitle": false,
     "tableResultSettingsMap": {},
     "title": ""
    }
   },
   "outputs": [
    {
     "output_type": "stream",
     "name": "stdout",
     "output_type": "stream",
     "text": [
      "<class 'pandas.core.frame.DataFrame'>\nRangeIndex: 50000 entries, 0 to 49999\nData columns (total 14 columns):\n #   Column                 Non-Null Count  Dtype  \n---  ------                 --------------  -----  \n 0   num_passengers         50000 non-null  int32  \n 1   sales_channel          50000 non-null  object \n 2   trip_type              50000 non-null  object \n 3   purchase_lead          50000 non-null  int32  \n 4   length_of_stay         50000 non-null  int32  \n 5   flight_hour            50000 non-null  int32  \n 6   flight_day             50000 non-null  object \n 7   route                  50000 non-null  object \n 8   booking_origin         50000 non-null  object \n 9   wants_extra_baggage    50000 non-null  int32  \n 10  wants_preferred_seat   50000 non-null  int32  \n 11  wants_in_flight_meals  50000 non-null  int32  \n 12  flight_duration        50000 non-null  float64\n 13  booking_complete       50000 non-null  int32  \ndtypes: float64(1), int32(8), object(5)\nmemory usage: 3.8+ MB\nNone\n       num_passengers  purchase_lead  length_of_stay  flight_hour  \\\ncount    50000.000000   50000.000000     50000.00000  50000.00000   \nmean         1.591240      84.940480        23.04456      9.06634   \nstd          1.020165      90.451378        33.88767      5.41266   \nmin          1.000000       0.000000         0.00000      0.00000   \n25%          1.000000      21.000000         5.00000      5.00000   \n50%          1.000000      51.000000        17.00000      9.00000   \n75%          2.000000     115.000000        28.00000     13.00000   \nmax          9.000000     867.000000       778.00000     23.00000   \n\n       wants_extra_baggage  wants_preferred_seat  wants_in_flight_meals  \\\ncount         50000.000000          50000.000000           50000.000000   \nmean              0.668780              0.296960               0.427140   \nstd               0.470657              0.456923               0.494668   \nmin               0.000000              0.000000               0.000000   \n25%               0.000000              0.000000               0.000000   \n50%               1.000000              0.000000               0.000000   \n75%               1.000000              1.000000               1.000000   \nmax               1.000000              1.000000               1.000000   \n\n       flight_duration  booking_complete  \ncount     50000.000000      50000.000000  \nmean          7.277561          0.149560  \nstd           1.496863          0.356643  \nmin           4.670000          0.000000  \n25%           5.620000          0.000000  \n50%           7.570000          0.000000  \n75%           8.830000          0.000000  \nmax           9.500000          1.000000  \n   num_passengers sales_channel  trip_type  purchase_lead  length_of_stay  \\\n0               2      Internet  RoundTrip            262              19   \n1               1      Internet  RoundTrip            112              20   \n2               2      Internet  RoundTrip            243              22   \n3               1      Internet  RoundTrip             96              31   \n4               2      Internet  RoundTrip             68              22   \n\n   flight_hour flight_day   route booking_origin  wants_extra_baggage  \\\n0            7        Sat  AKLDEL    New Zealand                    1   \n1            3        Sat  AKLDEL    New Zealand                    0   \n2           17        Wed  AKLDEL          India                    1   \n3            4        Sat  AKLDEL    New Zealand                    0   \n4           15        Wed  AKLDEL          India                    1   \n\n   wants_preferred_seat  wants_in_flight_meals  flight_duration  \\\n0                     0                      0             5.52   \n1                     0                      0             5.52   \n2                     1                      0             5.52   \n3                     0                      1             5.52   \n4                     0                      1             5.52   \n\n   booking_complete  \n0                 0  \n1                 0  \n2                 0  \n3                 0  \n4                 0  \n"
     ]
    }
   ],
   "source": [
    "# 数据概览\n",
    "print(data.info())  # 检查数据类型和缺失值\n",
    "print(data.describe())  # 查看数值变量的统计信息\n",
    "print(data.head())  # 查看数据示例"
   ]
  },
  {
   "cell_type": "code",
   "execution_count": 0,
   "metadata": {
    "application/vnd.databricks.v1+cell": {
     "cellMetadata": {
      "byteLimit": 2048000,
      "rowLimit": 10000
     },
     "inputWidgets": {},
     "nuid": "2398d17e-90f5-4d9e-8ad2-5e016d9f31a9",
     "showTitle": false,
     "tableResultSettingsMap": {},
     "title": ""
    }
   },
   "outputs": [
    {
     "output_type": "stream",
     "name": "stdout",
     "output_type": "stream",
     "text": [
      "   num_passengers  purchase_lead  length_of_stay  flight_hour  \\\n0               2            262              19            7   \n1               1            112              20            3   \n2               2            243              22           17   \n3               1             96              31            4   \n4               2             68              22           15   \n\n   wants_extra_baggage  wants_preferred_seat  wants_in_flight_meals  \\\n0                    1                     0                      0   \n1                    0                     0                      0   \n2                    1                     1                      0   \n3                    0                     0                      1   \n4                    1                     0                      1   \n\n   flight_duration  booking_complete  sales_channel_Mobile  ...  \\\n0             5.52                 0                     0  ...   \n1             5.52                 0                     0  ...   \n2             5.52                 0                     0  ...   \n3             5.52                 0                     0  ...   \n4             5.52                 0                     0  ...   \n\n   booking_origin_Timor-Leste  booking_origin_Tonga  booking_origin_Tunisia  \\\n0                           0                     0                       0   \n1                           0                     0                       0   \n2                           0                     0                       0   \n3                           0                     0                       0   \n4                           0                     0                       0   \n\n   booking_origin_Turkey  booking_origin_Ukraine  \\\n0                      0                       0   \n1                      0                       0   \n2                      0                       0   \n3                      0                       0   \n4                      0                       0   \n\n   booking_origin_United Arab Emirates  booking_origin_United Kingdom  \\\n0                                    0                              0   \n1                                    0                              0   \n2                                    0                              0   \n3                                    0                              0   \n4                                    0                              0   \n\n   booking_origin_United States  booking_origin_Vanuatu  \\\n0                             0                       0   \n1                             0                       0   \n2                             0                       0   \n3                             0                       0   \n4                             0                       0   \n\n   booking_origin_Vietnam  \n0                       0  \n1                       0  \n2                       0  \n3                       0  \n4                       0  \n\n[5 rows x 919 columns]\n"
     ]
    }
   ],
   "source": [
    "# 检查分类变量\n",
    "categorical_columns = ['sales_channel', 'trip_type', 'flight_day', 'route', 'booking_origin']\n",
    "\n",
    "# 使用 One-Hot 编码\n",
    "data = pd.get_dummies(data, columns=categorical_columns, drop_first=True)\n",
    "\n",
    "# 确认编码后数据\n",
    "print(data.head())"
   ]
  },
  {
   "cell_type": "code",
   "execution_count": 0,
   "metadata": {
    "application/vnd.databricks.v1+cell": {
     "cellMetadata": {
      "byteLimit": 2048000,
      "rowLimit": 10000
     },
     "inputWidgets": {},
     "nuid": "b1d2de61-0845-434b-94cc-a064663aebf4",
     "showTitle": false,
     "tableResultSettingsMap": {},
     "title": ""
    }
   },
   "outputs": [
    {
     "output_type": "stream",
     "name": "stdout",
     "output_type": "stream",
     "text": [
      "   purchase_lead  length_of_stay  flight_hour  flight_duration\n0       1.957530       -0.119353    -0.381764        -1.174175\n1       0.299164       -0.089844    -1.120780        -1.174175\n2       1.747470       -0.030824     1.465775        -1.174175\n3       0.122272        0.234761    -0.936026        -1.174175\n4      -0.187290       -0.030824     1.096267        -1.174175\n"
     ]
    }
   ],
   "source": [
    "# 选择需要标准化的列\n",
    "numeric_columns = ['purchase_lead', 'length_of_stay', 'flight_hour', 'flight_duration']\n",
    "\n",
    "# 标准化\n",
    "scaler = StandardScaler()\n",
    "data[numeric_columns] = scaler.fit_transform(data[numeric_columns])\n",
    "\n",
    "print(data[numeric_columns].head())"
   ]
  },
  {
   "cell_type": "code",
   "execution_count": 0,
   "metadata": {
    "application/vnd.databricks.v1+cell": {
     "cellMetadata": {
      "byteLimit": 2048000,
      "rowLimit": 10000
     },
     "inputWidgets": {},
     "nuid": "1abfbd2a-72d8-42a9-9f5b-91b74ca3e486",
     "showTitle": false,
     "tableResultSettingsMap": {},
     "title": ""
    }
   },
   "outputs": [],
   "source": [
    "# 假设有一个 DataFrame 叫 df\n",
    "output_path = \"/FileStore/tables/booking1.csv\"\n",
    "df.write.csv(output_path, header=True)"
   ]
  },
  {
   "cell_type": "code",
   "execution_count": 0,
   "metadata": {
    "application/vnd.databricks.v1+cell": {
     "cellMetadata": {
      "byteLimit": 2048000,
      "rowLimit": 10000
     },
     "inputWidgets": {},
     "nuid": "ce3d9864-189a-48d5-9436-be0c7009f4b2",
     "showTitle": false,
     "tableResultSettingsMap": {},
     "title": ""
    }
   },
   "outputs": [
    {
     "output_type": "stream",
     "name": "stdout",
     "output_type": "stream",
     "text": [
      "训练集大小: (40000, 918), 测试集大小: (10000, 918)\n"
     ]
    }
   ],
   "source": [
    "# 提取特征和目标变量\n",
    "X = data.drop('booking_complete', axis=1)\n",
    "y = data['booking_complete']\n",
    "\n",
    "# 划分训练集和测试集\n",
    "X_train, X_test, y_train, y_test = train_test_split(X, y, test_size=0.2, random_state=42)\n",
    "\n",
    "print(f\"训练集大小: {X_train.shape}, 测试集大小: {X_test.shape}\")"
   ]
  },
  {
   "cell_type": "code",
   "execution_count": 0,
   "metadata": {
    "application/vnd.databricks.v1+cell": {
     "cellMetadata": {
      "byteLimit": 2048000,
      "rowLimit": 10000
     },
     "inputWidgets": {},
     "nuid": "36662a48-160a-4d47-ae20-d6f197f9971d",
     "showTitle": false,
     "tableResultSettingsMap": {},
     "title": ""
    }
   },
   "outputs": [],
   "source": [
    "# 2. 数据平衡处理：应用 SMOTE\n",
    "smote = SMOTE(random_state=42)\n",
    "X_train_sm, y_train_sm = smote.fit_resample(X_train, y_train)"
   ]
  },
  {
   "cell_type": "code",
   "execution_count": 0,
   "metadata": {
    "application/vnd.databricks.v1+cell": {
     "cellMetadata": {
      "byteLimit": 2048000,
      "rowLimit": 10000
     },
     "inputWidgets": {},
     "nuid": "e40b0701-7ec6-4e46-a4a2-7843f59bd8a9",
     "showTitle": false,
     "tableResultSettingsMap": {},
     "title": ""
    }
   },
   "outputs": [],
   "source": [
    "# 使用 SMOTE 对训练数据进行过采样\n",
    "X_resampled, y_resampled = smote.fit_resample(X_train, y_train)"
   ]
  },
  {
   "cell_type": "markdown",
   "metadata": {
    "application/vnd.databricks.v1+cell": {
     "cellMetadata": {
      "byteLimit": 2048000,
      "rowLimit": 10000
     },
     "inputWidgets": {},
     "nuid": "374b8699-e865-4141-b122-d2f95d747b6d",
     "showTitle": false,
     "tableResultSettingsMap": {},
     "title": ""
    }
   },
   "source": [
    "#Logistic Regression "
   ]
  },
  {
   "cell_type": "code",
   "execution_count": 0,
   "metadata": {
    "application/vnd.databricks.v1+cell": {
     "cellMetadata": {
      "byteLimit": 2048000,
      "rowLimit": 10000
     },
     "inputWidgets": {},
     "nuid": "e0a3ca81-2f94-463d-8925-b11b773ee8ed",
     "showTitle": false,
     "tableResultSettingsMap": {},
     "title": ""
    }
   },
   "outputs": [],
   "source": [
    "from sklearn.model_selection import train_test_split\n",
    "\n",
    "X_train, X_test, y_train, y_test = train_test_split(X_resampled, y_resampled, test_size=0.2, random_state=42)\n",
    "\n",
    "# 标准化特征数据\n",
    "from sklearn.preprocessing import StandardScaler\n",
    "\n",
    "scaler = StandardScaler()\n",
    "X_train = scaler.fit_transform(X_train)\n",
    "X_test = scaler.transform(X_test)\n"
   ]
  },
  {
   "cell_type": "code",
   "execution_count": 0,
   "metadata": {
    "application/vnd.databricks.v1+cell": {
     "cellMetadata": {
      "byteLimit": 2048000,
      "rowLimit": 10000
     },
     "inputWidgets": {},
     "nuid": "02f8dd4b-568b-4935-9c0d-f63018547210",
     "showTitle": false,
     "tableResultSettingsMap": {},
     "title": ""
    }
   },
   "outputs": [
    {
     "output_type": "stream",
     "name": "stdout",
     "output_type": "stream",
     "text": [
      "Logistic Regression Classification Report:\n              precision    recall  f1-score   support\n\n           0       0.85      0.85      0.85      6730\n           1       0.85      0.85      0.85      6871\n\n    accuracy                           0.85     13601\n   macro avg       0.85      0.85      0.85     13601\nweighted avg       0.85      0.85      0.85     13601\n\nLogistic Regression AUC: 0.9284\n"
     ]
    },
    {
     "output_type": "stream",
     "name": "stderr",
     "output_type": "stream",
     "text": [
      "/databricks/python/lib/python3.9/site-packages/sklearn/linear_model/_logistic.py:814: ConvergenceWarning: lbfgs failed to converge (status=1):\nSTOP: TOTAL NO. of ITERATIONS REACHED LIMIT.\n\nIncrease the number of iterations (max_iter) or scale the data as shown in:\n    https://scikit-learn.org/stable/modules/preprocessing.html\nPlease also refer to the documentation for alternative solver options:\n    https://scikit-learn.org/stable/modules/linear_model.html#logistic-regression\n  n_iter_i = _check_optimize_result(\n"
     ]
    }
   ],
   "source": [
    "from sklearn.linear_model import LogisticRegression\n",
    "from sklearn.metrics import classification_report, roc_auc_score\n",
    "\n",
    "# Logistic Regression 模型训练\n",
    "lr_model = LogisticRegression(random_state=42)\n",
    "lr_model.fit(X_train, y_train)\n",
    "\n",
    "# 预测与评估\n",
    "y_pred_lr = lr_model.predict(X_test)\n",
    "y_prob_lr = lr_model.predict_proba(X_test)[:, 1]\n",
    "print(\"Logistic Regression Classification Report:\")\n",
    "print(classification_report(y_test, y_pred_lr))\n",
    "print(f\"Logistic Regression AUC: {roc_auc_score(y_test, y_prob_lr):.4f}\")"
   ]
  },
  {
   "cell_type": "markdown",
   "metadata": {
    "application/vnd.databricks.v1+cell": {
     "cellMetadata": {
      "byteLimit": 2048000,
      "rowLimit": 10000
     },
     "inputWidgets": {},
     "nuid": "0e771890-a7cd-4d4e-9faa-84faae5f3a2f",
     "showTitle": false,
     "tableResultSettingsMap": {},
     "title": ""
    }
   },
   "source": [
    "#Random Forest"
   ]
  },
  {
   "cell_type": "code",
   "execution_count": 0,
   "metadata": {
    "application/vnd.databricks.v1+cell": {
     "cellMetadata": {
      "byteLimit": 2048000,
      "rowLimit": 10000
     },
     "inputWidgets": {},
     "nuid": "c22b634d-fcf7-43dc-93d2-9513ff0f5245",
     "showTitle": false,
     "tableResultSettingsMap": {},
     "title": ""
    }
   },
   "outputs": [
    {
     "output_type": "stream",
     "name": "stdout",
     "output_type": "stream",
     "text": [
      "Random Forest Classification Report:\n              precision    recall  f1-score   support\n\n           0       0.92      0.85      0.88      6730\n           1       0.86      0.93      0.89      6871\n\n    accuracy                           0.89     13601\n   macro avg       0.89      0.89      0.89     13601\nweighted avg       0.89      0.89      0.89     13601\n\nRandom Forest AUC: 0.9637\n"
     ]
    }
   ],
   "source": [
    "from sklearn.ensemble import RandomForestClassifier\n",
    "\n",
    "# Random Forest 模型训练\n",
    "rf_model = RandomForestClassifier(n_estimators=100, random_state=42)\n",
    "rf_model.fit(X_train, y_train)\n",
    "\n",
    "# 预测与评估\n",
    "y_pred_rf = rf_model.predict(X_test)\n",
    "y_prob_rf = rf_model.predict_proba(X_test)[:, 1]\n",
    "print(\"Random Forest Classification Report:\")\n",
    "print(classification_report(y_test, y_pred_rf))\n",
    "print(f\"Random Forest AUC: {roc_auc_score(y_test, y_prob_rf):.4f}\")"
   ]
  },
  {
   "cell_type": "code",
   "execution_count": 0,
   "metadata": {
    "application/vnd.databricks.v1+cell": {
     "cellMetadata": {
      "byteLimit": 2048000,
      "rowLimit": 10000
     },
     "inputWidgets": {},
     "nuid": "86ae9e1a-54aa-4558-867b-5c4b1f1687b0",
     "showTitle": false,
     "tableResultSettingsMap": {},
     "title": ""
    }
   },
   "outputs": [
    {
     "output_type": "display_data",
     "data": {
      "image/png": "[encoded data removed]"
     },
     "metadata": {
      "application/vnd.databricks.v1+output": {
       "addedWidgets": {},
       "arguments": {},
       "data": "data:image/png;base64,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\n",
       "datasetInfos": [],
       "metadata": {},
       "removedWidgets": [],
       "type": "image"
      }
     },
     "output_type": "display_data"
    }
   ],
   "source": [
    "# Required imports\n",
    "import numpy as np\n",
    "import matplotlib.pyplot as plt\n",
    "import pandas as pd\n",
    "\n",
    "# Assuming `rf_model` is already trained, and `X` is your feature matrix\n",
    "# Calculate feature importances\n",
    "feature_importances = rf_model.feature_importances_\n",
    "\n",
    "# Check if X is a DataFrame; if not, convert it with appropriate feature names\n",
    "if isinstance(X, np.ndarray):\n",
    "    # Replace with the actual feature names\n",
    "    feature_names = [\n",
    "    \"num_passengers\", \n",
    "    \"purchase_lead\", \n",
    "    \"length_of_stay\", \n",
    "    \"flight_duration\", \n",
    "    \"wants_preferred_seat\", \n",
    "    \"wants_in_flight_meals\", \n",
    "    \"sales_channel_internet\", \n",
    "    \"sales_channel_agent\", \n",
    "    \"trip_type_round_trip\", \n",
    "    \"booking_origin_US\", \n",
    "    \"booking_origin_EU\"\n",
    "]\n",
    "    X = pd.DataFrame(X, columns=feature_names)\n",
    "\n",
    "# Ensure feature names and importances align\n",
    "assert len(X.columns) == len(feature_importances), \"Mismatch in feature names and importances\"\n",
    "\n",
    "# Sort feature importances and select top 10\n",
    "sorted_idx = np.argsort(feature_importances)[-10:]  # Indices of the top 10 features\n",
    "\n",
    "# Plot the feature importances\n",
    "plt.figure(figsize=(10, 6))\n",
    "plt.barh(range(len(sorted_idx)), feature_importances[sorted_idx], align='center')\n",
    "plt.yticks(range(len(sorted_idx)), X.columns[sorted_idx])\n",
    "plt.xlabel(\"Relative Importance\")\n",
    "plt.title(\"Top 10 Feature Importances in Random Forest\")\n",
    "plt.tight_layout()\n",
    "plt.show()\n",
    "\n"
   ]
  },
  {
   "cell_type": "markdown",
   "metadata": {
    "application/vnd.databricks.v1+cell": {
     "cellMetadata": {
      "byteLimit": 2048000,
      "rowLimit": 10000
     },
     "inputWidgets": {},
     "nuid": "af66f541-b730-4aba-86f6-4f2142ab96e5",
     "showTitle": false,
     "tableResultSettingsMap": {},
     "title": ""
    }
   },
   "source": [
    "#Xgboost"
   ]
  },
  {
   "cell_type": "code",
   "execution_count": 0,
   "metadata": {
    "application/vnd.databricks.v1+cell": {
     "cellMetadata": {
      "byteLimit": 2048000,
      "rowLimit": 10000
     },
     "inputWidgets": {},
     "nuid": "2526c6e9-9b9f-411b-ac2a-ed345c685291",
     "showTitle": false,
     "tableResultSettingsMap": {},
     "title": ""
    }
   },
   "outputs": [],
   "source": [
    "import numpy as np\n",
    "import pandas as pd\n",
    "from sklearn.model_selection import train_test_split\n",
    "\n",
    "# Assuming you already have X and y\n",
    "# Example dataset for demonstration\n",
    "X = np.random.rand(1000, 10)  # Replace with your actual dataset\n",
    "y = np.random.randint(0, 2, 1000)  # Binary target variable\n",
    "\n",
    "# Feature names for demonstration (replace with actual names)\n",
    "feature_names = [\n",
    "    \"num_passengers\", \"purchase_lead\", \"length_of_stay\", \"flight_duration\",\n",
    "    \"wants_preferred_seat\", \"wants_in_flight_meals\", \"sales_channel_internet\",\n",
    "    \"sales_channel_agent\", \"trip_type_round_trip\", \"booking_origin\"\n",
    "]\n",
    "\n",
    "# Convert X to DataFrame for feature names\n",
    "X = pd.DataFrame(X, columns=feature_names)\n",
    "\n",
    "# Split into training and testing sets\n",
    "X_train, X_test, y_train, y_test = train_test_split(X, y, test_size=0.2, random_state=42)\n"
   ]
  },
  {
   "cell_type": "code",
   "execution_count": 0,
   "metadata": {
    "application/vnd.databricks.v1+cell": {
     "cellMetadata": {
      "byteLimit": 2048000,
      "rowLimit": 10000
     },
     "inputWidgets": {},
     "nuid": "3155b6a1-d171-46d9-8df3-432a873ff6c4",
     "showTitle": false,
     "tableResultSettingsMap": {},
     "title": ""
    }
   },
   "outputs": [
    {
     "output_type": "stream",
     "name": "stdout",
     "output_type": "stream",
     "text": [
      "Classification Report:\n              precision    recall  f1-score   support\n\n           0       0.48      0.46      0.47        97\n           1       0.51      0.52      0.52       103\n\n    accuracy                           0.49       200\n   macro avg       0.49      0.49      0.49       200\nweighted avg       0.49      0.49      0.49       200\n\nAUC Score: 0.5187\n"
     ]
    }
   ],
   "source": [
    "import xgboost as xgb\n",
    "from sklearn.metrics import classification_report, roc_auc_score\n",
    "\n",
    "# Initialize and train the XGBoost classifier\n",
    "xgb_model = xgb.XGBClassifier(eval_metric=\"logloss\", random_state=42)\n",
    "xgb_model.fit(X_train, y_train)\n",
    "\n",
    "# Make predictions\n",
    "y_pred = xgb_model.predict(X_test)\n",
    "y_prob = xgb_model.predict_proba(X_test)[:, 1]\n",
    "\n",
    "# Evaluate the model\n",
    "print(\"Classification Report:\")\n",
    "print(classification_report(y_test, y_pred))\n",
    "print(f\"AUC Score: {roc_auc_score(y_test, y_prob):.4f}\")\n"
   ]
  },
  {
   "cell_type": "code",
   "execution_count": 0,
   "metadata": {
    "application/vnd.databricks.v1+cell": {
     "cellMetadata": {
      "byteLimit": 2048000,
      "rowLimit": 10000
     },
     "inputWidgets": {},
     "nuid": "e5c28c62-8434-4050-ac0c-037c3d65a203",
     "showTitle": false,
     "tableResultSettingsMap": {},
     "title": ""
    }
   },
   "outputs": [
    {
     "output_type": "stream",
     "name": "stdout",
     "output_type": "stream",
     "text": [
      "                  Feature  Importance\n7     sales_channel_agent    0.115314\n9          booking_origin    0.109000\n3         flight_duration    0.106932\n8    trip_type_round_trip    0.106341\n4    wants_preferred_seat    0.100003\n0          num_passengers    0.097799\n5   wants_in_flight_meals    0.092382\n1           purchase_lead    0.092074\n6  sales_channel_internet    0.090233\n2          length_of_stay    0.089922\n"
     ]
    }
   ],
   "source": [
    "# Extract feature importances\n",
    "feature_importances = xgb_model.feature_importances_\n",
    "\n",
    "# Ensure feature names align with feature importances\n",
    "assert len(feature_importances) == len(feature_names), \"Mismatch between feature names and importances!\"\n",
    "\n",
    "# Create a DataFrame for feature importances\n",
    "importance_df = pd.DataFrame({\n",
    "    \"Feature\": feature_names,\n",
    "    \"Importance\": feature_importances\n",
    "}).sort_values(by=\"Importance\", ascending=False)\n",
    "\n",
    "# Display the top features\n",
    "print(importance_df.head(10))\n"
   ]
  },
  {
   "cell_type": "code",
   "execution_count": 0,
   "metadata": {
    "application/vnd.databricks.v1+cell": {
     "cellMetadata": {
      "byteLimit": 2048000,
      "rowLimit": 10000
     },
     "inputWidgets": {},
     "nuid": "3d7c0fce-8bcb-4a66-b7a3-3f28f50d22c0",
     "showTitle": false,
     "tableResultSettingsMap": {},
     "title": ""
    }
   },
   "outputs": [
    {
     "output_type": "display_data",
     "data": {
      "image/png": "[encoded data removed]"
     },
     "metadata": {
      "application/vnd.databricks.v1+output": {
       "addedWidgets": {},
       "arguments": {},
       "data": "data:image/png;base64,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\n",
       "datasetInfos": [],
       "metadata": {},
       "removedWidgets": [],
       "type": "image"
      }
     },
     "output_type": "display_data"
    }
   ],
   "source": [
    "# Select the top 10 features\n",
    "top_10_features = importance_df.head(10)\n",
    "\n",
    "# Plot the top 10 feature importances\n",
    "import matplotlib.pyplot as plt\n",
    "\n",
    "plt.figure(figsize=(10, 6))\n",
    "plt.barh(top_10_features[\"Feature\"], top_10_features[\"Importance\"], color=\"skyblue\")\n",
    "plt.gca().invert_yaxis()  # Most important feature at the top\n",
    "plt.title(\"Top 10 Feature Importances (XGBoost)\")\n",
    "plt.xlabel(\"Relative Importance\")\n",
    "plt.tight_layout()\n",
    "plt.show()\n"
   ]
  },
  {
   "cell_type": "code",
   "execution_count": 0,
   "metadata": {
    "application/vnd.databricks.v1+cell": {
     "cellMetadata": {},
     "inputWidgets": {},
     "nuid": "08c72c93-d47f-4c02-bf47-861072dfcba0",
     "showTitle": false,
     "tableResultSettingsMap": {},
     "title": ""
    }
   },
   "outputs": [],
   "source": []
  },
  {
   "cell_type": "code",
   "execution_count": 0,
   "metadata": {
    "application/vnd.databricks.v1+cell": {
     "cellMetadata": {},
     "inputWidgets": {},
     "nuid": "dda0dd46-6864-4bd2-b2e3-0cbef8bf045c",
     "showTitle": false,
     "tableResultSettingsMap": {},
     "title": ""
    }
   },
   "outputs": [],
   "source": []
  },
  {
   "cell_type": "code",
   "execution_count": 0,
   "metadata": {
    "application/vnd.databricks.v1+cell": {
     "cellMetadata": {},
     "inputWidgets": {},
     "nuid": "79f0d02b-204c-481d-bf8f-89ff045e5f47",
     "showTitle": false,
     "tableResultSettingsMap": {},
     "title": ""
    }
   },
   "outputs": [],
   "source": []
  }
 ],
 "metadata": {
  "application/vnd.databricks.v1+notebook": {
   "dashboards": [],
   "environmentMetadata": null,
   "language": "python",
   "notebookMetadata": {
    "pythonIndentUnit": 2
   },
   "notebookName": "Q3",
   "widgets": {}
  }
 },
 "nbformat": 4,
 "nbformat_minor": 0
}
