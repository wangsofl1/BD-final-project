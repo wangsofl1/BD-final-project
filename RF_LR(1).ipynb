{
 "cells": [
  {
   "cell_type": "code",
   "execution_count": 0,
   "metadata": {
    "application/vnd.databricks.v1+cell": {
     "cellMetadata": {
      "byteLimit": 2048000,
      "rowLimit": 10000
     },
     "inputWidgets": {},
     "nuid": "bfa44657-e3fc-4d54-a985-775352f5f5d5",
     "showTitle": false,
     "tableResultSettingsMap": {},
     "title": ""
    }
   },
   "outputs": [
    {
     "output_type": "stream",
     "name": "stdout",
     "output_type": "stream",
     "text": [
      "Python interpreter will be restarted.\nRequirement already satisfied: mlflow in /local_disk0/.ephemeral_nfs/envs/pythonEnv-9b4d8c6b-c9cb-4f5c-bd66-d9a3b34eeeac/lib/python3.9/site-packages (2.18.0)\nRequirement already satisfied: sqlalchemy<3,>=1.4.0 in /local_disk0/.ephemeral_nfs/envs/pythonEnv-9b4d8c6b-c9cb-4f5c-bd66-d9a3b34eeeac/lib/python3.9/site-packages (from mlflow) (2.0.36)\nRequirement already satisfied: graphene<4 in /local_disk0/.ephemeral_nfs/envs/pythonEnv-9b4d8c6b-c9cb-4f5c-bd66-d9a3b34eeeac/lib/python3.9/site-packages (from mlflow) (3.4.3)\nRequirement already satisfied: scipy<2 in /databricks/python3/lib/python3.9/site-packages (from mlflow) (1.7.3)\nRequirement already satisfied: docker<8,>=4.0.0 in /local_disk0/.ephemeral_nfs/envs/pythonEnv-9b4d8c6b-c9cb-4f5c-bd66-d9a3b34eeeac/lib/python3.9/site-packages (from mlflow) (7.1.0)\nRequirement already satisfied: numpy<3 in /databricks/python3/lib/python3.9/site-packages (from mlflow) (1.21.5)\nRequirement already satisfied: Flask<4 in /local_disk0/.ephemeral_nfs/envs/pythonEnv-9b4d8c6b-c9cb-4f5c-bd66-d9a3b34eeeac/lib/python3.9/site-packages (from mlflow) (3.1.0)\nRequirement already satisfied: mlflow-skinny==2.18.0 in /local_disk0/.ephemeral_nfs/envs/pythonEnv-9b4d8c6b-c9cb-4f5c-bd66-d9a3b34eeeac/lib/python3.9/site-packages (from mlflow) (2.18.0)\nRequirement already satisfied: pyarrow<19,>=4.0.0 in /databricks/python3/lib/python3.9/site-packages (from mlflow) (7.0.0)\nRequirement already satisfied: scikit-learn<2 in /databricks/python3/lib/python3.9/site-packages (from mlflow) (1.0.2)\nRequirement already satisfied: markdown<4,>=3.3 in /local_disk0/.ephemeral_nfs/envs/pythonEnv-9b4d8c6b-c9cb-4f5c-bd66-d9a3b34eeeac/lib/python3.9/site-packages (from mlflow) (3.7)\nRequirement already satisfied: pandas<3 in /databricks/python3/lib/python3.9/site-packages (from mlflow) (1.4.2)\nRequirement already satisfied: gunicorn<24 in /local_disk0/.ephemeral_nfs/envs/pythonEnv-9b4d8c6b-c9cb-4f5c-bd66-d9a3b34eeeac/lib/python3.9/site-packages (from mlflow) (23.0.0)\nRequirement already satisfied: alembic!=1.10.0,<2 in /local_disk0/.ephemeral_nfs/envs/pythonEnv-9b4d8c6b-c9cb-4f5c-bd66-d9a3b34eeeac/lib/python3.9/site-packages (from mlflow) (1.14.0)\nRequirement already satisfied: matplotlib<4 in /databricks/python3/lib/python3.9/site-packages (from mlflow) (3.5.1)\nRequirement already satisfied: Jinja2<4,>=2.11 in /local_disk0/.ephemeral_nfs/envs/pythonEnv-9b4d8c6b-c9cb-4f5c-bd66-d9a3b34eeeac/lib/python3.9/site-packages (from mlflow) (3.1.4)\nRequirement already satisfied: sqlparse<1,>=0.4.0 in /local_disk0/.ephemeral_nfs/envs/pythonEnv-9b4d8c6b-c9cb-4f5c-bd66-d9a3b34eeeac/lib/python3.9/site-packages (from mlflow-skinny==2.18.0->mlflow) (0.5.2)\nRequirement already satisfied: requests<3,>=2.17.3 in /local_disk0/.ephemeral_nfs/envs/pythonEnv-9b4d8c6b-c9cb-4f5c-bd66-d9a3b34eeeac/lib/python3.9/site-packages (from mlflow-skinny==2.18.0->mlflow) (2.32.3)\nRequirement already satisfied: opentelemetry-api<3,>=1.9.0 in /local_disk0/.ephemeral_nfs/envs/pythonEnv-9b4d8c6b-c9cb-4f5c-bd66-d9a3b34eeeac/lib/python3.9/site-packages (from mlflow-skinny==2.18.0->mlflow) (1.28.2)\nRequirement already satisfied: click<9,>=7.0 in /local_disk0/.ephemeral_nfs/envs/pythonEnv-9b4d8c6b-c9cb-4f5c-bd66-d9a3b34eeeac/lib/python3.9/site-packages (from mlflow-skinny==2.18.0->mlflow) (8.1.7)\nRequirement already satisfied: opentelemetry-sdk<3,>=1.9.0 in /local_disk0/.ephemeral_nfs/envs/pythonEnv-9b4d8c6b-c9cb-4f5c-bd66-d9a3b34eeeac/lib/python3.9/site-packages (from mlflow-skinny==2.18.0->mlflow) (1.28.2)\nRequirement already satisfied: protobuf<6,>=3.12.0 in /databricks/python3/lib/python3.9/site-packages (from mlflow-skinny==2.18.0->mlflow) (3.19.4)\nRequirement already satisfied: cloudpickle<4 in /local_disk0/.ephemeral_nfs/envs/pythonEnv-9b4d8c6b-c9cb-4f5c-bd66-d9a3b34eeeac/lib/python3.9/site-packages (from mlflow-skinny==2.18.0->mlflow) (3.1.0)\nRequirement already satisfied: importlib-metadata!=4.7.0,<9,>=3.7.0 in /local_disk0/.ephemeral_nfs/envs/pythonEnv-9b4d8c6b-c9cb-4f5c-bd66-d9a3b34eeeac/lib/python3.9/site-packages (from mlflow-skinny==2.18.0->mlflow) (8.5.0)\nRequirement already satisfied: pyyaml<7,>=5.1 in /local_disk0/.ephemeral_nfs/envs/pythonEnv-9b4d8c6b-c9cb-4f5c-bd66-d9a3b34eeeac/lib/python3.9/site-packages (from mlflow-skinny==2.18.0->mlflow) (6.0.2)\nRequirement already satisfied: gitpython<4,>=3.1.9 in /local_disk0/.ephemeral_nfs/envs/pythonEnv-9b4d8c6b-c9cb-4f5c-bd66-d9a3b34eeeac/lib/python3.9/site-packages (from mlflow-skinny==2.18.0->mlflow) (3.1.43)\nRequirement already satisfied: cachetools<6,>=5.0.0 in /local_disk0/.ephemeral_nfs/envs/pythonEnv-9b4d8c6b-c9cb-4f5c-bd66-d9a3b34eeeac/lib/python3.9/site-packages (from mlflow-skinny==2.18.0->mlflow) (5.5.0)\nRequirement already satisfied: packaging<25 in /databricks/python3/lib/python3.9/site-packages (from mlflow-skinny==2.18.0->mlflow) (21.3)\nRequirement already satisfied: databricks-sdk<1,>=0.20.0 in /local_disk0/.ephemeral_nfs/envs/pythonEnv-9b4d8c6b-c9cb-4f5c-bd66-d9a3b34eeeac/lib/python3.9/site-packages (from mlflow-skinny==2.18.0->mlflow) (0.38.0)\nRequirement already satisfied: typing-extensions>=4 in /local_disk0/.ephemeral_nfs/envs/pythonEnv-9b4d8c6b-c9cb-4f5c-bd66-d9a3b34eeeac/lib/python3.9/site-packages (from alembic!=1.10.0,<2->mlflow) (4.12.2)\nRequirement already satisfied: Mako in /local_disk0/.ephemeral_nfs/envs/pythonEnv-9b4d8c6b-c9cb-4f5c-bd66-d9a3b34eeeac/lib/python3.9/site-packages (from alembic!=1.10.0,<2->mlflow) (1.3.6)\nRequirement already satisfied: google-auth~=2.0 in /local_disk0/.ephemeral_nfs/envs/pythonEnv-9b4d8c6b-c9cb-4f5c-bd66-d9a3b34eeeac/lib/python3.9/site-packages (from databricks-sdk<1,>=0.20.0->mlflow-skinny==2.18.0->mlflow) (2.36.0)\nRequirement already satisfied: urllib3>=1.26.0 in /databricks/python3/lib/python3.9/site-packages (from docker<8,>=4.0.0->mlflow) (1.26.9)\nRequirement already satisfied: blinker>=1.9 in /local_disk0/.ephemeral_nfs/envs/pythonEnv-9b4d8c6b-c9cb-4f5c-bd66-d9a3b34eeeac/lib/python3.9/site-packages (from Flask<4->mlflow) (1.9.0)\nRequirement already satisfied: Werkzeug>=3.1 in /local_disk0/.ephemeral_nfs/envs/pythonEnv-9b4d8c6b-c9cb-4f5c-bd66-d9a3b34eeeac/lib/python3.9/site-packages (from Flask<4->mlflow) (3.1.3)\nRequirement already satisfied: itsdangerous>=2.2 in /local_disk0/.ephemeral_nfs/envs/pythonEnv-9b4d8c6b-c9cb-4f5c-bd66-d9a3b34eeeac/lib/python3.9/site-packages (from Flask<4->mlflow) (2.2.0)\nRequirement already satisfied: gitdb<5,>=4.0.1 in /local_disk0/.ephemeral_nfs/envs/pythonEnv-9b4d8c6b-c9cb-4f5c-bd66-d9a3b34eeeac/lib/python3.9/site-packages (from gitpython<4,>=3.1.9->mlflow-skinny==2.18.0->mlflow) (4.0.11)\nRequirement already satisfied: smmap<6,>=3.0.1 in /local_disk0/.ephemeral_nfs/envs/pythonEnv-9b4d8c6b-c9cb-4f5c-bd66-d9a3b34eeeac/lib/python3.9/site-packages (from gitdb<5,>=4.0.1->gitpython<4,>=3.1.9->mlflow-skinny==2.18.0->mlflow) (5.0.1)\nRequirement already satisfied: rsa<5,>=3.1.4 in /local_disk0/.ephemeral_nfs/envs/pythonEnv-9b4d8c6b-c9cb-4f5c-bd66-d9a3b34eeeac/lib/python3.9/site-packages (from google-auth~=2.0->databricks-sdk<1,>=0.20.0->mlflow-skinny==2.18.0->mlflow) (4.9)\nRequirement already satisfied: pyasn1-modules>=0.2.1 in /local_disk0/.ephemeral_nfs/envs/pythonEnv-9b4d8c6b-c9cb-4f5c-bd66-d9a3b34eeeac/lib/python3.9/site-packages (from google-auth~=2.0->databricks-sdk<1,>=0.20.0->mlflow-skinny==2.18.0->mlflow) (0.4.1)\nRequirement already satisfied: python-dateutil<3,>=2.7.0 in /databricks/python3/lib/python3.9/site-packages (from graphene<4->mlflow) (2.8.2)\nRequirement already satisfied: graphql-core<3.3,>=3.1 in /local_disk0/.ephemeral_nfs/envs/pythonEnv-9b4d8c6b-c9cb-4f5c-bd66-d9a3b34eeeac/lib/python3.9/site-packages (from graphene<4->mlflow) (3.2.5)\nRequirement already satisfied: graphql-relay<3.3,>=3.1 in /local_disk0/.ephemeral_nfs/envs/pythonEnv-9b4d8c6b-c9cb-4f5c-bd66-d9a3b34eeeac/lib/python3.9/site-packages (from graphene<4->mlflow) (3.2.0)\nRequirement already satisfied: zipp>=3.20 in /local_disk0/.ephemeral_nfs/envs/pythonEnv-9b4d8c6b-c9cb-4f5c-bd66-d9a3b34eeeac/lib/python3.9/site-packages (from importlib-metadata!=4.7.0,<9,>=3.7.0->mlflow-skinny==2.18.0->mlflow) (3.21.0)\nRequirement already satisfied: MarkupSafe>=2.0 in /local_disk0/.ephemeral_nfs/envs/pythonEnv-9b4d8c6b-c9cb-4f5c-bd66-d9a3b34eeeac/lib/python3.9/site-packages (from Jinja2<4,>=2.11->mlflow) (3.0.2)\nRequirement already satisfied: pyparsing>=2.2.1 in /databricks/python3/lib/python3.9/site-packages (from matplotlib<4->mlflow) (3.0.4)\nRequirement already satisfied: cycler>=0.10 in /databricks/python3/lib/python3.9/site-packages (from matplotlib<4->mlflow) (0.11.0)\nRequirement already satisfied: kiwisolver>=1.0.1 in /databricks/python3/lib/python3.9/site-packages (from matplotlib<4->mlflow) (1.3.2)\nRequirement already satisfied: pillow>=6.2.0 in /databricks/python3/lib/python3.9/site-packages (from matplotlib<4->mlflow) (9.0.1)\nRequirement already satisfied: fonttools>=4.22.0 in /databricks/python3/lib/python3.9/site-packages (from matplotlib<4->mlflow) (4.25.0)\nRequirement already satisfied: deprecated>=1.2.6 in /local_disk0/.ephemeral_nfs/envs/pythonEnv-9b4d8c6b-c9cb-4f5c-bd66-d9a3b34eeeac/lib/python3.9/site-packages (from opentelemetry-api<3,>=1.9.0->mlflow-skinny==2.18.0->mlflow) (1.2.15)\nRequirement already satisfied: wrapt<2,>=1.10 in /local_disk0/.ephemeral_nfs/envs/pythonEnv-9b4d8c6b-c9cb-4f5c-bd66-d9a3b34eeeac/lib/python3.9/site-packages (from deprecated>=1.2.6->opentelemetry-api<3,>=1.9.0->mlflow-skinny==2.18.0->mlflow) (1.16.0)\nRequirement already satisfied: opentelemetry-semantic-conventions==0.49b2 in /local_disk0/.ephemeral_nfs/envs/pythonEnv-9b4d8c6b-c9cb-4f5c-bd66-d9a3b34eeeac/lib/python3.9/site-packages (from opentelemetry-sdk<3,>=1.9.0->mlflow-skinny==2.18.0->mlflow) (0.49b2)\nRequirement already satisfied: pytz>=2020.1 in /databricks/python3/lib/python3.9/site-packages (from pandas<3->mlflow) (2021.3)\nRequirement already satisfied: pyasn1<0.7.0,>=0.4.6 in /local_disk0/.ephemeral_nfs/envs/pythonEnv-9b4d8c6b-c9cb-4f5c-bd66-d9a3b34eeeac/lib/python3.9/site-packages (from pyasn1-modules>=0.2.1->google-auth~=2.0->databricks-sdk<1,>=0.20.0->mlflow-skinny==2.18.0->mlflow) (0.6.1)\nRequirement already satisfied: six>=1.5 in /databricks/python3/lib/python3.9/site-packages (from python-dateutil<3,>=2.7.0->graphene<4->mlflow) (1.16.0)\nRequirement already satisfied: certifi>=2017.4.17 in /databricks/python3/lib/python3.9/site-packages (from requests<3,>=2.17.3->mlflow-skinny==2.18.0->mlflow) (2021.10.8)\nRequirement already satisfied: idna<4,>=2.5 in /databricks/python3/lib/python3.9/site-packages (from requests<3,>=2.17.3->mlflow-skinny==2.18.0->mlflow) (3.3)\nRequirement already satisfied: charset-normalizer<4,>=2 in /databricks/python3/lib/python3.9/site-packages (from requests<3,>=2.17.3->mlflow-skinny==2.18.0->mlflow) (2.0.4)\nRequirement already satisfied: joblib>=0.11 in /databricks/python3/lib/python3.9/site-packages (from scikit-learn<2->mlflow) (1.1.1)\nRequirement already satisfied: threadpoolctl>=2.0.0 in /databricks/python3/lib/python3.9/site-packages (from scikit-learn<2->mlflow) (2.2.0)\nRequirement already satisfied: greenlet!=0.4.17 in /local_disk0/.ephemeral_nfs/envs/pythonEnv-9b4d8c6b-c9cb-4f5c-bd66-d9a3b34eeeac/lib/python3.9/site-packages (from sqlalchemy<3,>=1.4.0->mlflow) (3.1.1)\nPython interpreter will be restarted.\n"
     ]
    }
   ],
   "source": [
    "pip install mlflow"
   ]
  },
  {
   "cell_type": "code",
   "execution_count": 0,
   "metadata": {
    "application/vnd.databricks.v1+cell": {
     "cellMetadata": {
      "byteLimit": 2048000,
      "rowLimit": 10000
     },
     "inputWidgets": {},
     "nuid": "42abf89b-c918-4ec8-9922-0e962c7ecb8a",
     "showTitle": false,
     "tableResultSettingsMap": {},
     "title": ""
    }
   },
   "outputs": [
    {
     "output_type": "stream",
     "name": "stdout",
     "output_type": "stream",
     "text": [
      "Python interpreter will be restarted.\nRequirement already satisfied: imblearn in /local_disk0/.ephemeral_nfs/envs/pythonEnv-9b4d8c6b-c9cb-4f5c-bd66-d9a3b34eeeac/lib/python3.9/site-packages (0.0)\nRequirement already satisfied: imbalanced-learn in /local_disk0/.ephemeral_nfs/envs/pythonEnv-9b4d8c6b-c9cb-4f5c-bd66-d9a3b34eeeac/lib/python3.9/site-packages (from imblearn) (0.12.4)\nRequirement already satisfied: scikit-learn>=1.0.2 in /databricks/python3/lib/python3.9/site-packages (from imbalanced-learn->imblearn) (1.0.2)\nRequirement already satisfied: joblib>=1.1.1 in /databricks/python3/lib/python3.9/site-packages (from imbalanced-learn->imblearn) (1.1.1)\nRequirement already satisfied: threadpoolctl>=2.0.0 in /databricks/python3/lib/python3.9/site-packages (from imbalanced-learn->imblearn) (2.2.0)\nRequirement already satisfied: scipy>=1.5.0 in /databricks/python3/lib/python3.9/site-packages (from imbalanced-learn->imblearn) (1.7.3)\nRequirement already satisfied: numpy>=1.17.3 in /databricks/python3/lib/python3.9/site-packages (from imbalanced-learn->imblearn) (1.21.5)\nPython interpreter will be restarted.\n"
     ]
    }
   ],
   "source": [
    "pip install imblearn"
   ]
  },
  {
   "cell_type": "code",
   "execution_count": 0,
   "metadata": {
    "application/vnd.databricks.v1+cell": {
     "cellMetadata": {
      "byteLimit": 2048000,
      "rowLimit": 10000
     },
     "inputWidgets": {},
     "nuid": "6d5c944b-9342-441b-af3b-12fe9e658060",
     "showTitle": false,
     "tableResultSettingsMap": {},
     "title": ""
    }
   },
   "outputs": [
    {
     "output_type": "stream",
     "name": "stdout",
     "output_type": "stream",
     "text": [
      "Python interpreter will be restarted.\nRequirement already satisfied: xgboost in /local_disk0/.ephemeral_nfs/envs/pythonEnv-9b4d8c6b-c9cb-4f5c-bd66-d9a3b34eeeac/lib/python3.9/site-packages (2.1.2)\nRequirement already satisfied: nvidia-nccl-cu12 in /local_disk0/.ephemeral_nfs/envs/pythonEnv-9b4d8c6b-c9cb-4f5c-bd66-d9a3b34eeeac/lib/python3.9/site-packages (from xgboost) (2.23.4)\nRequirement already satisfied: scipy in /databricks/python3/lib/python3.9/site-packages (from xgboost) (1.7.3)\nRequirement already satisfied: numpy in /databricks/python3/lib/python3.9/site-packages (from xgboost) (1.21.5)\nPython interpreter will be restarted.\n"
     ]
    }
   ],
   "source": [
    "pip install xgboost"
   ]
  },
  {
   "cell_type": "code",
   "execution_count": 0,
   "metadata": {
    "application/vnd.databricks.v1+cell": {
     "cellMetadata": {
      "byteLimit": 2048000,
      "rowLimit": 10000
     },
     "inputWidgets": {},
     "nuid": "ad095437-d1d1-4f85-919b-de8c933a19af",
     "showTitle": false,
     "tableResultSettingsMap": {},
     "title": ""
    }
   },
   "outputs": [
    {
     "output_type": "display_data",
     "data": {
      "application/vnd.databricks.v1+bamboolib_hint": "{\"pd.DataFrames\": [], \"version\": \"0.0.1\"}",
      "text/plain": []
     },
     "metadata": {},
     "output_type": "display_data"
    }
   ],
   "source": [
    "# Databricks notebook source\n",
    "from pyspark.sql import SparkSession\n",
    "from pyspark.sql.functions import *\n",
    "from pyspark.sql.types import *\n",
    "from pyspark.ml.feature import StringIndexer, StandardScaler, VectorAssembler\n",
    "from pyspark.ml import Pipeline\n",
    "from pyspark.ml.classification import RandomForestClassifier\n",
    "from pyspark.ml.evaluation import BinaryClassificationEvaluator\n",
    "from pyspark.ml.tuning import ParamGridBuilder, CrossValidator\n",
    "import pandas as pd\n",
    "import numpy as np\n",
    "from sklearn.model_selection import train_test_split\n",
    "from sklearn.preprocessing import StandardScaler\n",
    "from sklearn.metrics import classification_report, roc_auc_score, roc_curve\n",
    "from imblearn.over_sampling import SMOTE\n",
    "import xgboost as xgb\n",
    "import matplotlib.pyplot as plt\n",
    "import seaborn as sns\n",
    "import mlflow\n",
    "import mlflow.sklearn\n",
    "from sklearn.metrics import accuracy_score"
   ]
  },
  {
   "cell_type": "code",
   "execution_count": 0,
   "metadata": {
    "application/vnd.databricks.v1+cell": {
     "cellMetadata": {
      "byteLimit": 2048000,
      "rowLimit": 10000
     },
     "inputWidgets": {},
     "nuid": "eeb128cc-3df7-4e92-a07d-297e86309eaa",
     "showTitle": false,
     "tableResultSettingsMap": {},
     "title": ""
    }
   },
   "outputs": [],
   "source": [
    "# create SparkSession\n",
    "spark = SparkSession.builder.appName(\"Data\").getOrCreate()"
   ]
  },
  {
   "cell_type": "code",
   "execution_count": 0,
   "metadata": {
    "application/vnd.databricks.v1+cell": {
     "cellMetadata": {
      "byteLimit": 2048000,
      "rowLimit": 10000
     },
     "inputWidgets": {},
     "nuid": "6f0ac0d9-c6da-44fa-aab7-e4500991866a",
     "showTitle": false,
     "tableResultSettingsMap": {},
     "title": ""
    }
   },
   "outputs": [],
   "source": [
    "# Load the dataset\n",
    "df = spark.read.csv(\"/FileStore/tables/customer_booking.csv\", header=True, inferSchema=True)"
   ]
  },
  {
   "cell_type": "code",
   "execution_count": 0,
   "metadata": {
    "application/vnd.databricks.v1+cell": {
     "cellMetadata": {
      "byteLimit": 2048000,
      "rowLimit": 10000
     },
     "inputWidgets": {},
     "nuid": "5dc42a70-3a15-4e46-ab8c-415c15b1ec84",
     "showTitle": false,
     "tableResultSettingsMap": {},
     "title": ""
    }
   },
   "outputs": [],
   "source": [
    "# Converting Spark DataFrame to Pandas DataFrame for Machine Learning \n",
    "data = df.toPandas()"
   ]
  },
  {
   "cell_type": "code",
   "execution_count": 0,
   "metadata": {
    "application/vnd.databricks.v1+cell": {
     "cellMetadata": {
      "byteLimit": 2048000,
      "rowLimit": 10000
     },
     "inputWidgets": {},
     "nuid": "8899757c-b640-4718-abb6-b305033feadc",
     "showTitle": false,
     "tableResultSettingsMap": {},
     "title": ""
    }
   },
   "outputs": [
    {
     "output_type": "stream",
     "name": "stdout",
     "output_type": "stream",
     "text": [
      "<class 'pandas.core.frame.DataFrame'>\nRangeIndex: 50000 entries, 0 to 49999\nData columns (total 14 columns):\n #   Column                 Non-Null Count  Dtype  \n---  ------                 --------------  -----  \n 0   num_passengers         50000 non-null  int32  \n 1   sales_channel          50000 non-null  object \n 2   trip_type              50000 non-null  object \n 3   purchase_lead          50000 non-null  int32  \n 4   length_of_stay         50000 non-null  int32  \n 5   flight_hour            50000 non-null  int32  \n 6   flight_day             50000 non-null  object \n 7   route                  50000 non-null  object \n 8   booking_origin         50000 non-null  object \n 9   wants_extra_baggage    50000 non-null  int32  \n 10  wants_preferred_seat   50000 non-null  int32  \n 11  wants_in_flight_meals  50000 non-null  int32  \n 12  flight_duration        50000 non-null  float64\n 13  booking_complete       50000 non-null  int32  \ndtypes: float64(1), int32(8), object(5)\nmemory usage: 3.8+ MB\nNone\n       num_passengers  purchase_lead  length_of_stay  flight_hour  \\\ncount    50000.000000   50000.000000     50000.00000  50000.00000   \nmean         1.591240      84.940480        23.04456      9.06634   \nstd          1.020165      90.451378        33.88767      5.41266   \nmin          1.000000       0.000000         0.00000      0.00000   \n25%          1.000000      21.000000         5.00000      5.00000   \n50%          1.000000      51.000000        17.00000      9.00000   \n75%          2.000000     115.000000        28.00000     13.00000   \nmax          9.000000     867.000000       778.00000     23.00000   \n\n       wants_extra_baggage  wants_preferred_seat  wants_in_flight_meals  \\\ncount         50000.000000          50000.000000           50000.000000   \nmean              0.668780              0.296960               0.427140   \nstd               0.470657              0.456923               0.494668   \nmin               0.000000              0.000000               0.000000   \n25%               0.000000              0.000000               0.000000   \n50%               1.000000              0.000000               0.000000   \n75%               1.000000              1.000000               1.000000   \nmax               1.000000              1.000000               1.000000   \n\n       flight_duration  booking_complete  \ncount     50000.000000      50000.000000  \nmean          7.277561          0.149560  \nstd           1.496863          0.356643  \nmin           4.670000          0.000000  \n25%           5.620000          0.000000  \n50%           7.570000          0.000000  \n75%           8.830000          0.000000  \nmax           9.500000          1.000000  \n   num_passengers sales_channel  trip_type  purchase_lead  length_of_stay  \\\n0               2      Internet  RoundTrip            262              19   \n1               1      Internet  RoundTrip            112              20   \n2               2      Internet  RoundTrip            243              22   \n3               1      Internet  RoundTrip             96              31   \n4               2      Internet  RoundTrip             68              22   \n\n   flight_hour flight_day   route booking_origin  wants_extra_baggage  \\\n0            7        Sat  AKLDEL    New Zealand                    1   \n1            3        Sat  AKLDEL    New Zealand                    0   \n2           17        Wed  AKLDEL          India                    1   \n3            4        Sat  AKLDEL    New Zealand                    0   \n4           15        Wed  AKLDEL          India                    1   \n\n   wants_preferred_seat  wants_in_flight_meals  flight_duration  \\\n0                     0                      0             5.52   \n1                     0                      0             5.52   \n2                     1                      0             5.52   \n3                     0                      1             5.52   \n4                     0                      1             5.52   \n\n   booking_complete  \n0                 0  \n1                 0  \n2                 0  \n3                 0  \n4                 0  \n"
     ]
    }
   ],
   "source": [
    "# Data overview\n",
    "print(data.info())  # Check data types and missing values\n",
    "print(data.describe())  # Check data types and missing values\n",
    "print(data.head())  # Check data types and missing values"
   ]
  },
  {
   "cell_type": "code",
   "execution_count": 0,
   "metadata": {
    "application/vnd.databricks.v1+cell": {
     "cellMetadata": {
      "byteLimit": 2048000,
      "rowLimit": 10000
     },
     "inputWidgets": {},
     "nuid": "2398d17e-90f5-4d9e-8ad2-5e016d9f31a9",
     "showTitle": false,
     "tableResultSettingsMap": {},
     "title": ""
    }
   },
   "outputs": [
    {
     "output_type": "stream",
     "name": "stdout",
     "output_type": "stream",
     "text": [
      "   num_passengers  purchase_lead  length_of_stay  flight_hour  \\\n0               2            262              19            7   \n1               1            112              20            3   \n2               2            243              22           17   \n3               1             96              31            4   \n4               2             68              22           15   \n\n   wants_extra_baggage  wants_preferred_seat  wants_in_flight_meals  \\\n0                    1                     0                      0   \n1                    0                     0                      0   \n2                    1                     1                      0   \n3                    0                     0                      1   \n4                    1                     0                      1   \n\n   flight_duration  booking_complete  sales_channel_Mobile  ...  \\\n0             5.52                 0                     0  ...   \n1             5.52                 0                     0  ...   \n2             5.52                 0                     0  ...   \n3             5.52                 0                     0  ...   \n4             5.52                 0                     0  ...   \n\n   booking_origin_Timor-Leste  booking_origin_Tonga  booking_origin_Tunisia  \\\n0                           0                     0                       0   \n1                           0                     0                       0   \n2                           0                     0                       0   \n3                           0                     0                       0   \n4                           0                     0                       0   \n\n   booking_origin_Turkey  booking_origin_Ukraine  \\\n0                      0                       0   \n1                      0                       0   \n2                      0                       0   \n3                      0                       0   \n4                      0                       0   \n\n   booking_origin_United Arab Emirates  booking_origin_United Kingdom  \\\n0                                    0                              0   \n1                                    0                              0   \n2                                    0                              0   \n3                                    0                              0   \n4                                    0                              0   \n\n   booking_origin_United States  booking_origin_Vanuatu  \\\n0                             0                       0   \n1                             0                       0   \n2                             0                       0   \n3                             0                       0   \n4                             0                       0   \n\n   booking_origin_Vietnam  \n0                       0  \n1                       0  \n2                       0  \n3                       0  \n4                       0  \n\n[5 rows x 919 columns]\n"
     ]
    }
   ],
   "source": [
    "# Check categorical variables\n",
    "categorical_columns = ['sales_channel', 'trip_type', 'flight_day', 'route', 'booking_origin']\n",
    "\n",
    "# Use One-Hot coding\n",
    "data = pd.get_dummies(data, columns=categorical_columns, drop_first=True)\n",
    "\n",
    "# Confirmation of post-coding data\n",
    "print(data.head())"
   ]
  },
  {
   "cell_type": "code",
   "execution_count": 0,
   "metadata": {
    "application/vnd.databricks.v1+cell": {
     "cellMetadata": {
      "byteLimit": 2048000,
      "rowLimit": 10000
     },
     "inputWidgets": {},
     "nuid": "b1d2de61-0845-434b-94cc-a064663aebf4",
     "showTitle": false,
     "tableResultSettingsMap": {},
     "title": ""
    }
   },
   "outputs": [
    {
     "output_type": "stream",
     "name": "stdout",
     "output_type": "stream",
     "text": [
      "   purchase_lead  length_of_stay  flight_hour  flight_duration\n0       1.957530       -0.119353    -0.381764        -1.174175\n1       0.299164       -0.089844    -1.120780        -1.174175\n2       1.747470       -0.030824     1.465775        -1.174175\n3       0.122272        0.234761    -0.936026        -1.174175\n4      -0.187290       -0.030824     1.096267        -1.174175\n"
     ]
    }
   ],
   "source": [
    "# Select columns to be standardized\n",
    "numeric_columns = ['purchase_lead', 'length_of_stay', 'flight_hour', 'flight_duration']\n",
    "\n",
    "# Standardized\n",
    "scaler = StandardScaler()\n",
    "data[numeric_columns] = scaler.fit_transform(data[numeric_columns])\n",
    "\n",
    "print(data[numeric_columns].head())"
   ]
  },
  {
   "cell_type": "code",
   "execution_count": 0,
   "metadata": {
    "application/vnd.databricks.v1+cell": {
     "cellMetadata": {
      "byteLimit": 2048000,
      "rowLimit": 10000
     },
     "inputWidgets": {},
     "nuid": "ce3d9864-189a-48d5-9436-be0c7009f4b2",
     "showTitle": false,
     "tableResultSettingsMap": {},
     "title": ""
    }
   },
   "outputs": [
    {
     "output_type": "stream",
     "name": "stdout",
     "output_type": "stream",
     "text": [
      "Training set size: (40000, 918), Test Set Size: (10000, 918)\n"
     ]
    }
   ],
   "source": [
    "# Extract features and target variables\n",
    "X = data.drop('booking_complete', axis=1)\n",
    "y = data['booking_complete']\n",
    "\n",
    "# Delineate training and test sets\n",
    "X_train, X_test, y_train, y_test = train_test_split(X, y, test_size=0.2, random_state=42)\n",
    "\n",
    "print(f\"Training set size: {X_train.shape}, Test Set Size: {X_test.shape}\")"
   ]
  },
  {
   "cell_type": "code",
   "execution_count": 0,
   "metadata": {
    "application/vnd.databricks.v1+cell": {
     "cellMetadata": {
      "byteLimit": 2048000,
      "rowLimit": 10000
     },
     "inputWidgets": {},
     "nuid": "36662a48-160a-4d47-ae20-d6f197f9971d",
     "showTitle": false,
     "tableResultSettingsMap": {},
     "title": ""
    }
   },
   "outputs": [],
   "source": [
    "# 2. Data balancing: applying SMOTE\n",
    "smote = SMOTE(random_state=42)\n",
    "X_train_sm, y_train_sm = smote.fit_resample(X_train, y_train)"
   ]
  },
  {
   "cell_type": "code",
   "execution_count": 0,
   "metadata": {
    "application/vnd.databricks.v1+cell": {
     "cellMetadata": {
      "byteLimit": 2048000,
      "rowLimit": 10000
     },
     "inputWidgets": {},
     "nuid": "266de8bb-71d7-4b62-8ab4-7d396219b8f7",
     "showTitle": false,
     "tableResultSettingsMap": {},
     "title": ""
    }
   },
   "outputs": [
    {
     "output_type": "stream",
     "name": "stdout",
     "output_type": "stream",
     "text": [
      "Classification report:\n              precision    recall  f1-score   support\n\n           0       0.90      0.86      0.88      8520\n           1       0.35      0.42      0.38      1480\n\n    accuracy                           0.80     10000\n   macro avg       0.62      0.64      0.63     10000\nweighted avg       0.82      0.80      0.81     10000\n\nAUC Score: 0.7622247335363533\n"
     ]
    },
    {
     "output_type": "display_data",
     "data": {
      "image/png": "[encoded data removed]"
     },
     "metadata": {
      "application/vnd.databricks.v1+output": {
       "addedWidgets": {},
       "arguments": {},
       "data": "data:image/png;base64,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\n",
       "datasetInfos": [],
       "metadata": {},
       "removedWidgets": [],
       "type": "image"
      }
     },
     "output_type": "display_data"
    }
   ],
   "source": [
    "from sklearn.ensemble import RandomForestClassifier\n",
    "from sklearn.metrics import classification_report, accuracy_score\n",
    "\n",
    "\n",
    "# 3. Model training: random forest with weights\n",
    "rf_model = RandomForestClassifier(class_weight='balanced', random_state=42)\n",
    "rf_model.fit(X_train_sm, y_train_sm)\n",
    "\n",
    "# 4. Model predictions\n",
    "y_pred = rf_model.predict(X_test)\n",
    "y_pred_prob = rf_model.predict_proba(X_test)[:, 1]\n",
    "\n",
    "# 5. Assessment of model performance\n",
    "classification_rep = classification_report(y_test, y_pred)\n",
    "auc_score = roc_auc_score(y_test, y_pred_prob)\n",
    "\n",
    "print(\"Classification report:\")\n",
    "print(classification_rep)\n",
    "print(\"AUC Score:\", auc_score)\n",
    "\n",
    "# 6. plotting ROC curves\n",
    "plt.figure(figsize=(8, 6))\n",
    "fpr, tpr, _ = roc_curve(y_test, y_pred_prob)\n",
    "plt.plot(fpr, tpr, label=f'ROC curve (AUC = {auc_score:.2f})')\n",
    "plt.plot([0, 1], [0, 1], 'k--')\n",
    "plt.xlabel('False Positive Rate')\n",
    "plt.ylabel('True Positive Rate')\n",
    "plt.title('ROC Curve')\n",
    "plt.legend(loc=\"lower right\")\n",
    "plt.show()"
   ]
  },
  {
   "cell_type": "code",
   "execution_count": 0,
   "metadata": {
    "application/vnd.databricks.v1+cell": {
     "cellMetadata": {
      "byteLimit": 2048000,
      "rowLimit": 10000
     },
     "inputWidgets": {},
     "nuid": "190e31b2-af58-404b-8a2d-321035342c54",
     "showTitle": false,
     "tableResultSettingsMap": {},
     "title": ""
    }
   },
   "outputs": [],
   "source": [
    "from sklearn.linear_model import LogisticRegression\n",
    "from sklearn.metrics import classification_report, accuracy_score"
   ]
  },
  {
   "cell_type": "code",
   "execution_count": 0,
   "metadata": {
    "application/vnd.databricks.v1+cell": {
     "cellMetadata": {
      "byteLimit": 2048000,
      "rowLimit": 10000
     },
     "inputWidgets": {},
     "nuid": "fcb9641d-d59d-4cd6-a588-b7e7bf8cef06",
     "showTitle": false,
     "tableResultSettingsMap": {},
     "title": ""
    }
   },
   "outputs": [
    {
     "output_type": "stream",
     "name": "stdout",
     "output_type": "stream",
     "text": [
      "model accuracy:  0.7768\nClassification report: \n               precision    recall  f1-score   support\n\n           0       0.91      0.82      0.86      8520\n           1       0.33      0.51      0.40      1480\n\n    accuracy                           0.78     10000\n   macro avg       0.62      0.67      0.63     10000\nweighted avg       0.82      0.78      0.79     10000\n\n"
     ]
    },
    {
     "output_type": "stream",
     "name": "stderr",
     "output_type": "stream",
     "text": [
      "/databricks/python/lib/python3.9/site-packages/sklearn/linear_model/_logistic.py:814: ConvergenceWarning: lbfgs failed to converge (status=1):\nSTOP: TOTAL NO. of ITERATIONS REACHED LIMIT.\n\nIncrease the number of iterations (max_iter) or scale the data as shown in:\n    https://scikit-learn.org/stable/modules/preprocessing.html\nPlease also refer to the documentation for alternative solver options:\n    https://scikit-learn.org/stable/modules/linear_model.html#logistic-regression\n  n_iter_i = _check_optimize_result(\n"
     ]
    }
   ],
   "source": [
    "# Step 5: Initialize Logistic Regression model\n",
    "logreg = LogisticRegression(random_state=42)\n",
    "\n",
    "# Step 6: Train the model on the balanced training data\n",
    "logreg.fit(X_train_sm, y_train_sm)\n",
    "\n",
    "# Step 7: Predict on the test set\n",
    "y_pred = logreg.predict(X_test)\n",
    "\n",
    "# Step 8: Evaluate the model\n",
    "print(\"model accuracy: \", accuracy_score(y_test, y_pred))\n",
    "print(\"Classification report: \\n\", classification_report(y_test, y_pred))"
   ]
  },
  {
   "cell_type": "code",
   "execution_count": 0,
   "metadata": {
    "application/vnd.databricks.v1+cell": {
     "cellMetadata": {
      "byteLimit": 2048000,
      "rowLimit": 10000
     },
     "inputWidgets": {},
     "nuid": "9e906f4e-7209-42cd-a1b1-71b04f0c5d03",
     "showTitle": false,
     "tableResultSettingsMap": {},
     "title": ""
    }
   },
   "outputs": [],
   "source": []
  }
 ],
 "metadata": {
  "application/vnd.databricks.v1+notebook": {
   "dashboards": [],
   "environmentMetadata": null,
   "language": "python",
   "notebookMetadata": {
    "pythonIndentUnit": 2
   },
   "notebookName": "RF_LR",
   "widgets": {}
  }
 },
 "nbformat": 4,
 "nbformat_minor": 0
}
